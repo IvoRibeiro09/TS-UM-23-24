{
 "cells": [
  {
   "cell_type": "markdown",
   "metadata": {},
   "source": [
    "O documento \"DJB on Secure Software Development\" de Vítor Francisco Fonte foca-se nas abordagens e princípios de segurança de software promovidos por Daniel J. Bernstein (DJB). Aqui estão os pontos fundamentais discutidos no documento:\n",
    "\n",
    "### Qmail: Um Exemplo de Software Seguro\n",
    "- **Qmail**: Um agente de transferência de correio (MTA) desenvolvido por DJB como substituto do Sendmail.\n",
    "- **Arquitetura Modular**: Componentes mutuamente desconfiados, cada um executando com diferentes credenciais para melhorar a segurança.\n",
    "- **Garantia de Segurança**: DJB oferecia uma recompensa monetária por bugs de segurança confirmados, incentivando a descoberta e correção de vulnerabilidades.\n",
    "- **Comparação com Sendmail**: Qmail possui menos linhas de código, um conjunto de funcionalidades minimalista e uniforme, e uma decomposição do serviço em múltiplos processos, cada um executando com diferentes UIDs e restrições de recursos. Isso resultou em um histórico de segurança impressionante em comparação com os centenas de vulnerabilidades do Sendmail.\n",
    "\n",
    "### Princípios Gerais de Desenvolvimento de Software Seguro\n",
    "1. **Eliminar Bugs**: \n",
    "   - **Modularidade e Encapsulamento**: Utilizar esses princípios para isolar e minimizar os efeitos de falhas.\n",
    "   - **Evitar Variáveis Globais**: Reduzir dependências e efeitos colaterais.\n",
    "   - **Checagem de Limites**: Sempre verificar os limites de arrays e recursos disponíveis.\n",
    "   - **Gerenciamento de Recursos**: Liberar recursos assim que não forem necessários.\n",
    "   - **Desenvolvimento de Testes**: Escrever testes para cada funcionalidade do código.\n",
    "   - **Ferramentas e Cadeias de Desenvolvimento Melhores**: Utilizar linguagens e ferramentas que ofereçam verificações automáticas e seguras, como extensão automática de arrays.\n",
    "   - **Programação Defensiva**: Práticas que asseguram a resiliência do código contra usos inesperados e erros.\n",
    "   - **Legibilidade e Padrões de Codificação**: Código deve ser fácil de ler e seguir padrões uniformes.\n",
    "\n",
    "2. **Eliminar Código**:\n",
    "   - **Código Pequeno e Simples**: Implementar apenas o conjunto mínimo de funcionalidades necessárias.\n",
    "   - **Refatoração**: Refatorar o código para simplificação e clareza.\n",
    "   - **Aproveitamento dos Mecanismos do SO**: Utilizar os mecanismos e abstrações do sistema operacional, como controle de acesso e comunicação entre processos, para simplificar o código.\n",
    "\n",
    "3. **Reduzir a Base de Código Confiável**:\n",
    "   - **Mínima Ação em Programas Setuid**: Fazer o mínimo possível em programas que requerem privilégios elevados.\n",
    "   - **Mínima Ação como Root**: Reduzir as operações realizadas com privilégios de superusuário.\n",
    "   - **Separação de Funções**: Dividir funções em programas independentes que não confiam uns nos outros.\n",
    "   - **Validação de Entrada**: Programas devem validar entradas antes de agir sobre elas.\n",
    "   - **Privilégios Mínimos e Restrições de Recursos**: Executar programas com o menor privilégio possível e com restrições de recursos rigorosas.\n",
    "\n",
    "### Receita Simples para Restrição de Execução de Processos\n",
    "- **Proibição de Novos Arquivos e Sockets**: Definir limites de arquivos abertos (RLIMIT_NOFILE) para 0.\n",
    "- **Proibição de Acesso ao Sistema de Arquivos**: Usar `chdir` e `chroot` para um diretório vazio.\n",
    "- **UID Dedicado**: Escolher um UID específico para o processo.\n",
    "- **Verificação de Execução Limpa**: Garantir que nada mais esteja executando com o UID alvo.\n",
    "- **Proibição de Operações Perigosas**: Configurar GID e UID para o UID alvo e definir limites de processos (RLIMIT_NPROC) para 0.\n",
    "- **Definição de Limites de Memória e Outros Recursos**: Aplicar restrições adequadas de alocação de recursos antes de executar o programa restante.\n",
    "\n",
    "Esses princípios e práticas destacam a importância de um design modular, minimalista e defensivo para desenvolver software seguro, conforme exemplificado pela abordagem de DJB no desenvolvimento do Qmail."
   ]
  }
 ],
 "metadata": {
  "language_info": {
   "name": "python"
  }
 },
 "nbformat": 4,
 "nbformat_minor": 2
}
