{
 "cells": [
  {
   "cell_type": "markdown",
   "metadata": {},
   "source": [
    "O documento \"Access Control\" de Vítor Francisco Fonte oferece uma visão detalhada sobre os diferentes modelos de controle de acesso. Aqui estão os pontos chave:\n",
    "\n",
    "### Princípios de Controle de Acesso\n",
    "- **Definição**: Controle de acesso é o processo de conceder ou negar pedidos específicos para obter e usar informações e serviços de processamento de informações relacionados, bem como entrar em instalações físicas específicas.\n",
    "- **Objetivos Centrais**: Prevenir o acesso não autorizado a recursos, assegurar que usuários legítimos acessem recursos de maneira autorizada e impedir que usuários legítimos acessem recursos de maneira não autorizada.\n",
    "\n",
    "### Componentes do Controle de Acesso\n",
    "- **Autenticação**: Verificação das credenciais de um usuário ou entidade do sistema.\n",
    "- **Autorização**: Concessão de direitos ou permissões a uma entidade do sistema para acessar um recurso.\n",
    "- **Auditoria**: Revisão independente de registros e atividades do sistema para testar a adequação dos controles do sistema, garantir conformidade com políticas estabelecidas, detectar falhas de segurança e recomendar mudanças.\n",
    "\n",
    "### Políticas de Controle de Acesso\n",
    "- **Controle de Acesso Discricionário (DAC)**: Baseia-se na identidade do solicitante e nas regras de acesso que especificam o que os solicitantes podem ou não fazer. É denominado discricionário porque uma entidade pode, por sua própria vontade, permitir que outra entidade acesse um recurso.\n",
    "- **Controle de Acesso Obrigatório (MAC)**: Baseia-se na comparação de rótulos de segurança com as autorizações de segurança. É denominado obrigatório porque uma entidade com autorização não pode, por sua própria vontade, permitir que outra entidade acesse um recurso.\n",
    "- **Controle de Acesso Baseado em Função (RBAC)**: Baseia-se nas funções que os usuários têm no sistema e nas regras que determinam quais acessos são permitidos para usuários em determinadas funções.\n",
    "- **Controle de Acesso Baseado em Atributos (ABAC)**: Baseia-se nos atributos do usuário, do recurso a ser acessado e nas condições ambientais atuais. É flexível e expressivo, mas pode ter penalidades de desempenho.\n",
    "\n",
    "### Controle de Acesso Discricionário (DAC)\n",
    "- **Matriz de Controle de Acesso**: Representa as permissões de acesso com linhas e colunas que correspondem a sujeitos e objetos.\n",
    "  - **Listas de Controle de Acesso (ACLs)**: Decompõem a matriz de controle de acesso por colunas, especificando os direitos de acesso de um conjunto de usuários para cada objeto.\n",
    "  - **Tíquetes de Capacidade**: Decompõem a matriz por linhas, especificando os objetos autorizados e operações para um usuário específico.\n",
    "\n",
    "### Controle de Acesso Baseado em Função (RBAC)\n",
    "- **Modelos de Referência RBAC**:\n",
    "  - **RBAC0**: Modelo base mínimo necessário para um sistema RBAC.\n",
    "  - **RBAC1**: Inclui hierarquias de funções.\n",
    "  - **RBAC2**: Inclui restrições.\n",
    "  - **RBAC3**: Combina hierarquias de funções e restrições.\n",
    "- **Hierarquias de Funções**: Refletem a estrutura hierárquica de funções dentro de uma organização, permitindo que uma função inclua implicitamente os direitos de acesso de uma função subordinada.\n",
    "- **Restrições**: Adaptam o RBAC às políticas administrativas e de segurança específicas de uma organização, incluindo funções mutuamente exclusivas, cardinalidade e funções pré-requisito.\n",
    "\n",
    "### Controle de Acesso Baseado em Atributos (ABAC)\n",
    "- **Atributos**: Características que definem aspectos específicos do sujeito, objeto e condições ambientais.\n",
    "  - **Atributos do Sujeito**: Definem propriedades como a função ou afiliação do usuário.\n",
    "  - **Atributos do Objeto**: Definem propriedades do recurso, como tipo e proprietário.\n",
    "  - **Atributos do Ambiente**: Descrevem o contexto em que o acesso ocorre, como data e hora atuais.\n",
    "- **Arquitetura Lógica ABAC**: Envolve um mecanismo de controle de acesso que avalia regras baseadas em atributos para determinar a autorização.\n",
    "- **Políticas ABAC**: Conjunto de regras e relacionamentos que governam o comportamento permitido dentro de uma organização, com base nos privilégios dos sujeitos e nas condições ambientais.\n",
    "\n",
    "Este resumo captura os principais aspectos e conceitos discutidos no documento sobre controle de acesso, abrangendo os diferentes modelos e suas implementações práticas."
   ]
  }
 ],
 "metadata": {
  "language_info": {
   "name": "python"
  }
 },
 "nbformat": 4,
 "nbformat_minor": 2
}
