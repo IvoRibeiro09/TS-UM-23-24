{
 "cells": [
  {
   "cell_type": "markdown",
   "metadata": {},
   "source": [
    "### Pontos-chave do documento \"The Cybersecurity Problem\"\n",
    "\n",
    "#### História e Evolução dos Problemas de Cibersegurança\n",
    "- **Primeiro bug, 1945**: Grace Murray Hopper registra a presença de uma mariposa entre contatos de relé, originando os termos “bug” e “debugging”.\n",
    "- **Era do \"Phreaking\", 1964**: Monitoramento de fraudes por AT&T para identificar \"phreakers\" usando \"blue boxes\".\n",
    "- **Primeiro worm, 1979**: John F. Schoch e Jon A. Hupp criam programas auto-replicáveis em Palo Alto Xerox Research Center.\n",
    "- **Primeiro vírus, 1986**: \"The Brain\", desenvolvido pelos irmãos Basit e Amjad Farooq Alvi.\n",
    "\n",
    "#### Exemplos de Ciberataques Notáveis\n",
    "- **1990**: Primeiro vírus auto-modificável.\n",
    "- **1995**: Primeiro vírus explorando o Microsoft Word, \"Concept\".\n",
    "- **2000**: Ataques de negação de serviço distribuídos (DDoS).\n",
    "- **2010**: \"Stuxnet\", malware complexo visando sistemas de controle industrial.\n",
    "- **2012**: \"Heartbleed\", vulnerabilidade no OpenSSL.\n",
    "- **2013**: Roubo de dados pessoais de mais de 70 milhões de usuários na Target.\n",
    "- **2014**: Roubo de 1.2 bilhões de credenciais de autenticação por hackers russos.\n",
    "\n",
    "#### Panorama de Ameaças de Cibersegurança (ENISA 2023)\n",
    "- **Principais ameaças**: Ransomware, malware, engenharia social, ameaças contra dados e disponibilidade.\n",
    "- **Incidentes por setor**: Administração pública, indivíduos, saúde, infraestrutura digital.\n",
    "- **Motivação dos atores de ameaça**: Extorsão, manipulação de informações, ataques à cadeia de suprimentos.\n",
    "\n",
    "#### Segurança em Ciência da Computação e Indústria de TIC\n",
    "- **Vulnerabilidades técnicas**: Gestão de memória, controle de acesso, configuração, lógica, concorrência.\n",
    "- **Abordagens industriais para complexidade e segurança**: Refatoração de código, linguagens e paradigmas mais seguros, práticas de desenvolvimento e teste mais seguras.\n",
    "- **Métodos formais**: Baseados em matemática para verificação rigorosa e prova de correção.\n",
    "\n",
    "#### Comportamento Humano e Organizacional\n",
    "- **Desafios**: Conscientização limitada sobre riscos de segurança, trade-offs entre segurança e conveniência, restrições orçamentárias.\n",
    "- **Soluções em nível de usuário**: Uso de ambientes de execução confiáveis, ferramentas de autoavaliação de segurança.\n",
    "- **Soluções em nível organizacional**: Políticas de segurança robustas, equipes de segurança independentes e bem financiadas, certificações de segurança.\n",
    "\n",
    "#### Legislação e Cibersegurança\n",
    "- **Necessidades**: Recursos adicionais, cooperação internacional, regulamentação, investigação, inteligência, prevenção e ações punitivas.\n",
    "- **Treinamento**: Necessidade crucial de treinamento interdisciplinar para estabelecer entendimento comum entre campos de TI e jurídico.\n",
    "\n",
    "### Conclusão\n",
    "- **Desafios contínuos**: Natureza dinâmica da segurança, problema adversarial inerente, falsa sensação de segurança devido à ignorância.\n",
    "- **Abordagens e pesquisas em curso**: Projetos de pesquisa e educação em segurança cibernética, iniciativas para aumentar o conhecimento e fornecer formação teórica e prática sólida para futuros profissionais.\n",
    "\n",
    "Estes pontos-chave cobrem a evolução histórica dos problemas de cibersegurança, exemplos notáveis de ciberataques, a análise do panorama de ameaças, abordagens técnicas e comportamentais para segurança e as necessidades legislativas para combater crimes cibernéticos."
   ]
  }
 ],
 "metadata": {
  "language_info": {
   "name": "python"
  }
 },
 "nbformat": 4,
 "nbformat_minor": 2
}
