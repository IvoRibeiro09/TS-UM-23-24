{
 "cells": [
  {
   "cell_type": "markdown",
   "metadata": {},
   "source": [
    "### 1. Três tipos de vulnerabilidades comuns no domínio do software\n",
    "\n",
    "#### a. **Buffer Overflow**\n",
    "- **Descrição**: Ocorre quando um programa tenta escrever mais dados em um buffer do que ele pode suportar, ultrapassando os limites do espaço de memória alocado.\n",
    "- **Exemplo de Exploração**: Um atacante pode fornecer uma entrada maior do que o esperado, fazendo com que dados sejam gravados em áreas adjacentes da memória. Isso pode permitir a execução de código arbitrário ao sobrescrever endereços de retorno em uma pilha, levando ao controle completo do fluxo do programa.\n",
    "\n",
    "#### b. **SQL Injection**\n",
    "- **Descrição**: Acontece quando um atacante insere ou \"injeta\" uma consulta SQL maliciosa em uma entrada de dados da aplicação, que é posteriormente executada pelo banco de dados.\n",
    "- **Exemplo de Exploração**: Um atacante pode inserir `'; DROP TABLE users; --` em um campo de login. Se a entrada não for corretamente sanitizada, isso pode resultar na execução da consulta SQL maliciosa, deletando a tabela de usuários.\n",
    "\n",
    "#### c. **Cross-Site Scripting (XSS)**\n",
    "- **Descrição**: Uma vulnerabilidade que permite a injeção de scripts maliciosos em páginas web visualizadas por outros usuários.\n",
    "- **Exemplo de Exploração**: Um atacante pode inserir um script malicioso em um campo de comentário de um blog. Quando outro usuário visualizar a página, o script será executado no navegador desse usuário, podendo roubar cookies de sessão e, assim, assumir sua conta.\n",
    "\n",
    "#### c. **Vulnerabilidades de Autenticação e Controle de Sessão**\n",
    "- **Descrição**:  Estas vulnerabilidades surgem quando há falhas na implementação de mecanismos de autenticação e gerenciamento de sessões. Isso pode incluir o uso de senhas fracas, falhas na expiração de sessões, ou exposição de tokens de sessão.\n",
    "Consequências: Pode permitir que atacantes assumam a identidade de outros usuários, comprometam contas, ou acessem dados sensíveis.\n",
    "- **Exemplo de Exploração**: Uso de senhas padrão em dispositivos, falta de expiração de tokens de sessão ou sessões que não são encerradas adequadamente após o logout.\n",
    "\n",
    "### 2. Mecanismos de proteção do Unix clássico\n",
    "\n",
    "#### a. **Controle de Acesso baseado em Permissões de Arquivo**\n",
    "- **Descrição**: Cada arquivo e diretório possui permissões associadas a ele, definidas para o proprietário do arquivo, o grupo e outros usuários. As permissões controlam a leitura, escrita e execução.\n",
    "- **Exemplo**: Um arquivo pode ter permissões `rw-r--r--`, onde o proprietário pode ler e escrever, o grupo pode apenas ler, e outros usuários também podem apenas ler.\n",
    "\n",
    "#### b. **Isolamento de Processos**\n",
    "- **Descrição**: Cada processo no Unix tem seu próprio espaço de endereço e não pode acessar diretamente a memória de outro processo.\n",
    "- **Exemplo**: Um processo não pode ler ou modificar dados de outro processo sem usar mecanismos de comunicação interprocessos (IPC) como pipes, sinais, ou memória compartilhada, que são controlados pelo kernel.\n",
    "\n",
    "#### c. **Gestão de Recursos**\n",
    "- **Descrição**: O Unix usa quotas de disco e limites de recursos (`ulimit`) para controlar a quantidade de recursos que um usuário ou processo pode consumir.\n",
    "- **Exemplo**: Um administrador pode definir um limite para a quantidade de espaço em disco que um usuário pode utilizar, prevenindo que um único usuário esgote todo o espaço disponível.\n",
    "\n",
    "### 3. Comentário sobre a afirmação: “O sistema operativo Unix clássico segue uma política de controlo de acesso discricionário”\n",
    "\n",
    "A afirmação é correta. No Unix clássico, o controle de acesso é baseado em permissões que são definidas pelos proprietários dos arquivos. Cada arquivo ou diretório possui um proprietário que tem a autoridade para conceder ou negar permissões de leitura, escrita e execução para outros usuários e grupos. Esta abordagem é conhecida como controle de acesso discricionário (DAC), onde o acesso é determinado pela identidade do usuário e as permissões configuradas pelo proprietário do recurso.\n",
    "\n",
    "### 4. Técnicas de footprint usadas no TP2 de Pentesting\n",
    "\n",
    "#### a. **Coleta de Informações de Rede**\n",
    "- **Descrição**: Inclui varredura de portas (port scanning) para identificar serviços ativos e descobrir a topologia da rede.\n",
    "- **Ferramentas**: Ferramentas como Nmap são usadas para escanear IPs e portas, revelando serviços disponíveis e suas versões.\n",
    "\n",
    "#### b. **Enumeração de Serviços**\n",
    "- **Descrição**: Após a descoberta de serviços, a próxima etapa é obter informações detalhadas sobre eles. Isso pode incluir versões de software e possíveis vulnerabilidades.\n",
    "- **Ferramentas**: Utilização de scripts específicos do Nmap e ferramentas como `enum4linux` para coletar informações sobre serviços como SMB (Server Message Block).\n",
    "\n",
    "#### c. **Coleta de Informações Públicas**\n",
    "- **Descrição**: Pesquisa de informações publicamente disponíveis sobre o alvo, incluindo registros DNS, informações de WHOIS e dados de websites.\n",
    "- **Ferramentas**: Utilização de ferramentas como `whois`, `theHarvester`, e `Google Dorks` para encontrar e consolidar informações públicas relevantes.\n",
    "\n",
    "Essas técnicas são essenciais na fase de footprinting de um pentest, pois fornecem uma compreensão inicial do alvo e ajudam a identificar possíveis pontos de entrada para ataques subsequentes."
   ]
  }
 ],
 "metadata": {
  "language_info": {
   "name": "python"
  }
 },
 "nbformat": 4,
 "nbformat_minor": 2
}
